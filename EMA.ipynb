{
  "nbformat": 4,
  "nbformat_minor": 0,
  "metadata": {
    "colab": {
      "name": "EMA.ipynb",
      "provenance": [],
      "authorship_tag": "ABX9TyPrklO3Yi5YCmwvIbBySR+y",
      "include_colab_link": true
    },
    "kernelspec": {
      "name": "python3",
      "display_name": "Python 3"
    },
    "language_info": {
      "name": "python"
    }
  },
  "cells": [
    {
      "cell_type": "markdown",
      "metadata": {
        "id": "view-in-github",
        "colab_type": "text"
      },
      "source": [
        "<a href=\"https://colab.research.google.com/github/XGHouFTW/py-cryptopredict/blob/main/EMA.ipynb\" target=\"_parent\"><img src=\"https://colab.research.google.com/assets/colab-badge.svg\" alt=\"Open In Colab\"/></a>"
      ]
    },
    {
      "cell_type": "code",
      "execution_count": null,
      "metadata": {
        "id": "K_ydUsBM8o17"
      },
      "outputs": [],
      "source": [
        "import pandas as pd\n",
        "import datetime\n",
        "from google.colab import drive\n",
        "drive.mount('/content/drive')"
      ]
    },
    {
      "cell_type": "code",
      "source": [
        "basepath = \"/content/drive/MyDrive/ISEF/Datasets/MergedPriceDataCalculatedColumns.csv\"\n",
        "dfbase = pd.read_csv(basepath)\n",
        "dfEMA = pd.DataFrame()\n",
        "dfEMA[\"Date\"] = dfbase[\"Date\"]\n",
        "for i in range(182):\n",
        "  columnname = dfbase.columns[i+2] #for each column past Date, compute exponential moving average for 4 days (alpha=0.4)\n",
        "  dfEMA[columnname + \"-EMA4\"] = dfbase[columnname].ewm(span=4, adjust=False).mean()"
      ],
      "metadata": {
        "id": "UaVLlK48_XTP"
      },
      "execution_count": null,
      "outputs": []
    },
    {
      "cell_type": "code",
      "source": [
        "dfEMA.to_csv(\"/content/drive/MyDrive/ISEF/Datasets/MergedPriceDataEMA.csv\", index=False)"
      ],
      "metadata": {
        "id": "HD1tHE3RB5xq"
      },
      "execution_count": null,
      "outputs": []
    }
  ]
}