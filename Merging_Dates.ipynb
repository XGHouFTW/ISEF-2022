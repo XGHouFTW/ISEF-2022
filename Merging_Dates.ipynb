{
  "nbformat": 4,
  "nbformat_minor": 0,
  "metadata": {
    "colab": {
      "name": "Merging Dates",
      "provenance": [],
      "collapsed_sections": [],
      "mount_file_id": "18tA0B_bu-5rKht3t_wdQcUlSZ0ovyYxT",
      "authorship_tag": "ABX9TyOu4lqZsr1UZGJ//jEanP4R",
      "include_colab_link": true
    },
    "kernelspec": {
      "name": "python3",
      "display_name": "Python 3"
    },
    "language_info": {
      "name": "python"
    }
  },
  "cells": [
    {
      "cell_type": "markdown",
      "metadata": {
        "id": "view-in-github",
        "colab_type": "text"
      },
      "source": [
        "<a href=\"https://colab.research.google.com/github/XGHouFTW/py-cryptopredict/blob/main/Merging_Dates.ipynb\" target=\"_parent\"><img src=\"https://colab.research.google.com/assets/colab-badge.svg\" alt=\"Open In Colab\"/></a>"
      ]
    },
    {
      "cell_type": "code",
      "execution_count": 1,
      "metadata": {
        "colab": {
          "base_uri": "https://localhost:8080/"
        },
        "id": "fAWhuU117uvs",
        "outputId": "59e719eb-15de-41ee-ba74-e2e20137a92e"
      },
      "outputs": [
        {
          "output_type": "stream",
          "name": "stdout",
          "text": [
            "Mounted at /content/drive\n"
          ]
        }
      ],
      "source": [
        "import pandas as pd\n",
        "import datetime\n",
        "from google.colab import drive\n",
        "drive.mount('/content/drive')"
      ]
    },
    {
      "cell_type": "code",
      "source": [
        "basepath = \"/content/drive/MyDrive/ISEF/Datasets/Stonks/Preprocessed/CryptoStockPrice.csv\"\n",
        "dfbase = pd.read_csv(basepath)\n",
        "#dfbase = dfbase.iloc[0:548,:] #Training set from Jan 31 2020 to July 31 2021\n",
        "\n",
        "medium = {\"news\":\"/content/drive/MyDrive/ISEF/Datasets/Google News/\",\"reddit\":\"/content/drive/MyDrive/ISEF/Datasets/Reddit/Reddit V3/Vaderized CSV/\"}\n",
        "keyword = [\"bitcoin\",\"ethereum\",\"dogecoin\",\"cryptocurrency\",\"economy\",\"finance\",\"politics\",\"pandemic\"]\n",
        "scorelist = {} #dictionary of scorecolumnname and path\n",
        "for med in medium:\n",
        "  for word in keyword:\n",
        "    scorelist[med + \"-\" + word] = medium[med] + med + \"-\" + word + \"-scored.csv\"\n"
      ],
      "metadata": {
        "id": "u2Ek0wfYKd-i",
        "outputId": "0f6b418c-6598-4e4b-c92c-a88d80aa0ccf",
        "colab": {
          "base_uri": "https://localhost:8080/"
        }
      },
      "execution_count": 11,
      "outputs": [
        {
          "output_type": "execute_result",
          "data": {
            "text/plain": [
              "{'news-bitcoin': '/content/drive/MyDrive/ISEF/Datasets/Google News/news-bitcoin-scored.csv',\n",
              " 'news-cryptocurrency': '/content/drive/MyDrive/ISEF/Datasets/Google News/news-cryptocurrency-scored.csv',\n",
              " 'news-dogecoin': '/content/drive/MyDrive/ISEF/Datasets/Google News/news-dogecoin-scored.csv',\n",
              " 'news-economy': '/content/drive/MyDrive/ISEF/Datasets/Google News/news-economy-scored.csv',\n",
              " 'news-ethereum': '/content/drive/MyDrive/ISEF/Datasets/Google News/news-ethereum-scored.csv',\n",
              " 'news-finance': '/content/drive/MyDrive/ISEF/Datasets/Google News/news-finance-scored.csv',\n",
              " 'news-pandemic': '/content/drive/MyDrive/ISEF/Datasets/Google News/news-pandemic-scored.csv',\n",
              " 'news-politics': '/content/drive/MyDrive/ISEF/Datasets/Google News/news-politics-scored.csv',\n",
              " 'reddit-bitcoin': '/content/drive/MyDrive/ISEF/Datasets/Reddit/Reddit V3/Vaderized CSV/reddit-bitcoin-scored.csv',\n",
              " 'reddit-cryptocurrency': '/content/drive/MyDrive/ISEF/Datasets/Reddit/Reddit V3/Vaderized CSV/reddit-cryptocurrency-scored.csv',\n",
              " 'reddit-dogecoin': '/content/drive/MyDrive/ISEF/Datasets/Reddit/Reddit V3/Vaderized CSV/reddit-dogecoin-scored.csv',\n",
              " 'reddit-economy': '/content/drive/MyDrive/ISEF/Datasets/Reddit/Reddit V3/Vaderized CSV/reddit-economy-scored.csv',\n",
              " 'reddit-ethereum': '/content/drive/MyDrive/ISEF/Datasets/Reddit/Reddit V3/Vaderized CSV/reddit-ethereum-scored.csv',\n",
              " 'reddit-finance': '/content/drive/MyDrive/ISEF/Datasets/Reddit/Reddit V3/Vaderized CSV/reddit-finance-scored.csv',\n",
              " 'reddit-pandemic': '/content/drive/MyDrive/ISEF/Datasets/Reddit/Reddit V3/Vaderized CSV/reddit-pandemic-scored.csv',\n",
              " 'reddit-politics': '/content/drive/MyDrive/ISEF/Datasets/Reddit/Reddit V3/Vaderized CSV/reddit-politics-scored.csv'}"
            ]
          },
          "metadata": {},
          "execution_count": 11
        }
      ]
    },
    {
      "cell_type": "code",
      "source": [
        "transMonth = {\"Jan\":\"01\",\"Feb\":\"02\",\"Mar\":\"03\",\"Apr\":\"04\",\"May\":\"05\",\"Jun\":\"06\",\"Jul\":\"07\",\"Aug\":\"08\",\"Sep\":\"09\",\"Oct\":\"10\",\"Nov\":\"11\",\"Dec\":\"12\"}\n",
        "\n",
        "a = \"2020-01-31\t\" #from historical prices\n",
        "def trans(strdate):\n",
        "    return datetime.datetime(int(strdate[0:4]), int(strdate[5:7]), int(strdate[8:10]))"
      ],
      "metadata": {
        "id": "gu_DN5RVHfvq"
      },
      "execution_count": null,
      "outputs": []
    },
    {
      "cell_type": "code",
      "source": [
        "start = trans(\"2020-01-31\") #to be compared to new dates for indexing\n",
        "for i in range(len(dfbase)):\n",
        "  dfbase.loc[i,\"Date\"] = trans(dfbase.loc[i,\"Date\"])"
      ],
      "metadata": {
        "id": "LFeW2tULDn6D"
      },
      "execution_count": null,
      "outputs": []
    },
    {
      "cell_type": "code",
      "source": [
        "for scoreset in scorelist:\n",
        "  dfAdd = pd.read_csv(scorelist[scoreset])\n",
        "  dfbase[scoreset + \"PosScoresum\"] = 0\n",
        "  dfbase[scoreset + \"PosScoreaverage\"] = 0\n",
        "  dfbase[scoreset + \"NegScoresum\"] = 0\n",
        "  dfbase[scoreset + \"NegScoreaverage\"] = 0\n",
        "  dfbase[scoreset + \"ComScoresum\"] = 0\n",
        "  dfbase[scoreset + \"ComScoreaverage\"] = 0\n",
        "\n",
        "  dfbase[scoreset + \"Scorecount\"] = 0\n",
        "\n",
        "  for i in range(len(dfAdd)):\n",
        "    ind = (trans(dfAdd.loc[i,\"Date\"])-start).days\n",
        "    if ind < 0 or ind > 731:\n",
        "      print(\"Date out of range error:\" + scoreset + str(i) + dfAdd.loc[i,\"Date\"])\n",
        "    else:\n",
        "      dfbase.loc[ind, scoreset + \"PosScoresum\"] = dfbase.loc[ind, scoreset + \"PosScoresum\"] + dfAdd.loc[i,\"Pos\"] #depends on if we only use compound or others too\n",
        "      dfbase.loc[ind, scoreset + \"NegScoresum\"] = dfbase.loc[ind, scoreset + \"NegScoresum\"] + dfAdd.loc[i,\"Neg\"] #depends on if we only use compound or others too\n",
        "      dfbase.loc[ind, scoreset + \"ComScoresum\"] = dfbase.loc[ind, scoreset + \"ComScoresum\"] + dfAdd.loc[i,\"Com\"] #depends on if we only use compound or others too\n",
        "      dfbase.loc[ind, scoreset + \"Scorecount\"] = dfbase.loc[ind, scoreset + \"Scorecount\"] + 1\n",
        "  \n",
        "  for i in range(len(dfbase)):\n",
        "    if not dfbase.loc[i,scoreset + \"Scorecount\"] == 0:\n",
        "      dfbase[scoreset + \"PosScoreaverage\"] = dfbase[scoreset + \"PosScoresum\"]/dfbase[scoreset + \"Scorecount\"]\n",
        "      dfbase[scoreset + \"NegScoreaverage\"] = dfbase[scoreset + \"NegScoresum\"]/dfbase[scoreset + \"Scorecount\"]\n",
        "      dfbase[scoreset + \"ComScoreaverage\"] = dfbase[scoreset + \"ComScoresum\"]/dfbase[scoreset + \"Scorecount\"]\n"
      ],
      "metadata": {
        "id": "HCOGZiIdJGOh",
        "outputId": "4a70bff4-9e2e-464c-a32c-0961fdca44ee",
        "colab": {
          "base_uri": "https://localhost:8080/"
        }
      },
      "execution_count": null,
      "outputs": [
        {
          "output_type": "stream",
          "name": "stdout",
          "text": [
            "Date out of range error:btc_news141342022-02-10\n",
            "Date out of range error:eth_news13192022-02-05\n",
            "Date out of range error:eth_news81772022-02-09\n",
            "Date out of range error:eth_news93392022-02-10\n",
            "Date out of range error:cryptocurrency_news102020-01-29\n",
            "Date out of range error:economy_news153992022-02-21\n",
            "Date out of range error:finance_news142452022-02-09\n",
            "Date out of range error:finance_news160112022-02-10\n",
            "Date out of range error:finance_news165642022-02-15\n",
            "Date out of range error:finance_news176222022-02-17\n",
            "Date out of range error:politics_news4682022-02-16\n",
            "Date out of range error:politics_news74052022-02-10\n",
            "Date out of range error:politics_news107462022-02-11\n",
            "Date out of range error:politics_news158192022-02-17\n",
            "Date out of range error:politics_news185802022-02-15\n",
            "Date out of range error:politics_news235592022-02-02\n",
            "Date out of range error:pandemic_news58872022-02-15\n",
            "Date out of range error:pandemic_news116072022-02-02\n",
            "Date out of range error:pandemic_news167472022-02-21\n",
            "Date out of range error:pandemic_news169652022-02-07\n"
          ]
        }
      ]
    },
    {
      "cell_type": "code",
      "source": [
        "dfbase.to_csv(\"/content/drive/MyDrive/ISEF/Datasets/MergedPriceData.csv\")"
      ],
      "metadata": {
        "id": "tOJjDUvkUgvr"
      },
      "execution_count": null,
      "outputs": []
    },
    {
      "cell_type": "code",
      "source": [
        ""
      ],
      "metadata": {
        "id": "LqrJ7F4nDcot"
      },
      "execution_count": null,
      "outputs": []
    }
  ]
}