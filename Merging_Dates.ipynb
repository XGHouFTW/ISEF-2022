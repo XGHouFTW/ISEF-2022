{
  "nbformat": 4,
  "nbformat_minor": 0,
  "metadata": {
    "colab": {
      "name": "Merging Dates",
      "provenance": [],
      "collapsed_sections": [],
      "mount_file_id": "18tA0B_bu-5rKht3t_wdQcUlSZ0ovyYxT",
      "authorship_tag": "ABX9TyO6AhuQthmTNh8BbjsgZ67y",
      "include_colab_link": true
    },
    "kernelspec": {
      "name": "python3",
      "display_name": "Python 3"
    },
    "language_info": {
      "name": "python"
    }
  },
  "cells": [
    {
      "cell_type": "markdown",
      "metadata": {
        "id": "view-in-github",
        "colab_type": "text"
      },
      "source": [
        "<a href=\"https://colab.research.google.com/github/XGHouFTW/ISEF-2022/blob/main/Merging_Dates.ipynb\" target=\"_parent\"><img src=\"https://colab.research.google.com/assets/colab-badge.svg\" alt=\"Open In Colab\"/></a>"
      ]
    },
    {
      "cell_type": "code",
      "execution_count": 1,
      "metadata": {
        "colab": {
          "base_uri": "https://localhost:8080/"
        },
        "id": "fAWhuU117uvs",
        "outputId": "9e453196-70d5-4edf-ff99-4a61902a7ca9"
      },
      "outputs": [
        {
          "output_type": "stream",
          "name": "stdout",
          "text": [
            "Drive already mounted at /content/drive; to attempt to forcibly remount, call drive.mount(\"/content/drive\", force_remount=True).\n"
          ]
        },
        {
          "output_type": "stream",
          "name": "stderr",
          "text": [
            "/usr/local/lib/python3.7/dist-packages/ipykernel_launcher.py:7: FutureWarning: In a future version of pandas all arguments of DataFrame.drop except for the argument 'labels' will be keyword-only\n",
            "  import sys\n"
          ]
        }
      ],
      "source": [
        "import pandas as pd\n",
        "import datetime\n",
        "from google.colab import drive\n",
        "drive.mount('/content/drive')\n",
        "basepath = \"/content/drive/MyDrive/ISEF/Datasets/Historical Prices/BTC-USD.csv\"\n",
        "dfbase = pd.read_csv(basepath)\n",
        "dfbase = dfbase.drop(\"Adj Close\", 1)\n",
        "#dfbase = dfbase.iloc[0:548,:] #Training set from Jan 31 2020 to July 31 2021\n",
        "\n",
        "scorelist = {\n",
        "    \"btc_news\":\"/content/drive/MyDrive/ISEF/Datasets/Google News/btc_news_scored.csv\",\n",
        "    \"eth_news\":\"/content/drive/MyDrive/ISEF/Datasets/Google News/eth_news_scored.csv\",\n",
        "    \"doge_news\":\"/content/drive/MyDrive/ISEF/Datasets/Google News/doge_news_scored.csv\",\n",
        "    \"cryptocurrency_news\":\"/content/drive/MyDrive/ISEF/Datasets/Google News/cryptocurrency_news_scored.csv\",\n",
        "    \"economy_news\":\"/content/drive/MyDrive/ISEF/Datasets/Google News/economy_news_scored.csv\",\n",
        "    \"finance_news\":\"/content/drive/MyDrive/ISEF/Datasets/Google News/finance_news_scored.csv\",\n",
        "    \"politics_news\":\"/content/drive/MyDrive/ISEF/Datasets/Google News/politics_news_scored.csv\",\n",
        "    \"pandemic_news\":\"/content/drive/MyDrive/ISEF/Datasets/Google News/pandemic_news_scored.csv\"\n",
        "} #dictionary of scorecolumnname and path"
      ]
    },
    {
      "cell_type": "code",
      "source": [
        "transMonth = {\"Jan\":\"01\",\"Feb\":\"02\",\"Mar\":\"03\",\"Apr\":\"04\",\"May\":\"05\",\"Jun\":\"06\",\"Jul\":\"07\",\"Aug\":\"08\",\"Sep\":\"09\",\"Oct\":\"10\",\"Nov\":\"11\",\"Dec\":\"12\"}\n",
        "\n",
        "a = \"2020-01-31\t\" #from historical prices\n",
        "def trans(strdate):\n",
        "    return datetime.datetime(int(strdate[0:4]), int(strdate[5:7]), int(strdate[8:10]))"
      ],
      "metadata": {
        "id": "gu_DN5RVHfvq"
      },
      "execution_count": 2,
      "outputs": []
    },
    {
      "cell_type": "code",
      "source": [
        "start = trans(\"2020-01-31\") #to be compared to new dates for indexing\n",
        "for i in range(len(dfbase)):\n",
        "  dfbase.loc[i,\"Date\"] = trans(dfbase.loc[i,\"Date\"])"
      ],
      "metadata": {
        "id": "LFeW2tULDn6D"
      },
      "execution_count": 3,
      "outputs": []
    },
    {
      "cell_type": "code",
      "source": [
        "for scoreset in scorelist:\n",
        "  dfAdd = pd.read_csv(scorelist[scoreset])\n",
        "  dfbase[scoreset + \"PosScoresum\"] = 0\n",
        "  dfbase[scoreset + \"PosScoreaverage\"] = 0\n",
        "  dfbase[scoreset + \"NegScoresum\"] = 0\n",
        "  dfbase[scoreset + \"NegScoreaverage\"] = 0\n",
        "  dfbase[scoreset + \"ComScoresum\"] = 0\n",
        "  dfbase[scoreset + \"ComScoreaverage\"] = 0\n",
        "\n",
        "  dfbase[scoreset + \"Scorecount\"] = 0\n",
        "\n",
        "  for i in range(len(dfAdd)):\n",
        "    ind = (trans(dfAdd.loc[i,\"Date\"])-start).days\n",
        "    if ind < 0 or ind > 731:\n",
        "      print(\"Date out of range error:\" + scoreset + str(i) + dfAdd.loc[i,\"Date\"])\n",
        "    else:\n",
        "      dfbase.loc[ind, scoreset + \"PosScoresum\"] = dfbase.loc[ind, scoreset + \"PosScoresum\"] + dfAdd.loc[i,\"Pos\"] #depends on if we only use compound or others too\n",
        "      dfbase.loc[ind, scoreset + \"NegScoresum\"] = dfbase.loc[ind, scoreset + \"NegScoresum\"] + dfAdd.loc[i,\"Neg\"] #depends on if we only use compound or others too\n",
        "      dfbase.loc[ind, scoreset + \"ComScoresum\"] = dfbase.loc[ind, scoreset + \"ComScoresum\"] + dfAdd.loc[i,\"Com\"] #depends on if we only use compound or others too\n",
        "      dfbase.loc[ind, scoreset + \"Scorecount\"] = dfbase.loc[ind, scoreset + \"Scorecount\"] + 1\n",
        "  \n",
        "  for i in range(len(dfbase)):\n",
        "    if not dfbase.loc[i,scoreset + \"Scorecount\"] == 0:\n",
        "      dfbase[scoreset + \"PosScoreaverage\"] = dfbase[scoreset + \"PosScoresum\"]/dfbase[scoreset + \"Scorecount\"]\n",
        "      dfbase[scoreset + \"NegScoreaverage\"] = dfbase[scoreset + \"NegScoresum\"]/dfbase[scoreset + \"Scorecount\"]\n",
        "      dfbase[scoreset + \"ComScoreaverage\"] = dfbase[scoreset + \"ComScoresum\"]/dfbase[scoreset + \"Scorecount\"]\n"
      ],
      "metadata": {
        "id": "HCOGZiIdJGOh",
        "outputId": "4a70bff4-9e2e-464c-a32c-0961fdca44ee",
        "colab": {
          "base_uri": "https://localhost:8080/"
        }
      },
      "execution_count": 4,
      "outputs": [
        {
          "output_type": "stream",
          "name": "stdout",
          "text": [
            "Date out of range error:btc_news141342022-02-10\n",
            "Date out of range error:eth_news13192022-02-05\n",
            "Date out of range error:eth_news81772022-02-09\n",
            "Date out of range error:eth_news93392022-02-10\n",
            "Date out of range error:cryptocurrency_news102020-01-29\n",
            "Date out of range error:economy_news153992022-02-21\n",
            "Date out of range error:finance_news142452022-02-09\n",
            "Date out of range error:finance_news160112022-02-10\n",
            "Date out of range error:finance_news165642022-02-15\n",
            "Date out of range error:finance_news176222022-02-17\n",
            "Date out of range error:politics_news4682022-02-16\n",
            "Date out of range error:politics_news74052022-02-10\n",
            "Date out of range error:politics_news107462022-02-11\n",
            "Date out of range error:politics_news158192022-02-17\n",
            "Date out of range error:politics_news185802022-02-15\n",
            "Date out of range error:politics_news235592022-02-02\n",
            "Date out of range error:pandemic_news58872022-02-15\n",
            "Date out of range error:pandemic_news116072022-02-02\n",
            "Date out of range error:pandemic_news167472022-02-21\n",
            "Date out of range error:pandemic_news169652022-02-07\n"
          ]
        }
      ]
    },
    {
      "cell_type": "code",
      "source": [
        "dfbase.to_csv(\"/content/drive/MyDrive/ISEF/Datasets/MergedPriceData.csv\")"
      ],
      "metadata": {
        "id": "tOJjDUvkUgvr"
      },
      "execution_count": 11,
      "outputs": []
    },
    {
      "cell_type": "code",
      "source": [
        ""
      ],
      "metadata": {
        "id": "LqrJ7F4nDcot"
      },
      "execution_count": 6,
      "outputs": []
    }
  ]
}