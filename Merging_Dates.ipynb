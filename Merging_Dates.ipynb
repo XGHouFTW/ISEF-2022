{
  "nbformat": 4,
  "nbformat_minor": 0,
  "metadata": {
    "colab": {
      "name": "Merging Dates",
      "provenance": [],
      "collapsed_sections": [],
      "mount_file_id": "18tA0B_bu-5rKht3t_wdQcUlSZ0ovyYxT",
      "authorship_tag": "ABX9TyP0vsjFlFSc1sNjuVU27buw",
      "include_colab_link": true
    },
    "kernelspec": {
      "name": "python3",
      "display_name": "Python 3"
    },
    "language_info": {
      "name": "python"
    }
  },
  "cells": [
    {
      "cell_type": "markdown",
      "metadata": {
        "id": "view-in-github",
        "colab_type": "text"
      },
      "source": [
        "<a href=\"https://colab.research.google.com/github/XGHouFTW/ISEF-2022/blob/main/Merging_Dates.ipynb\" target=\"_parent\"><img src=\"https://colab.research.google.com/assets/colab-badge.svg\" alt=\"Open In Colab\"/></a>"
      ]
    },
    {
      "cell_type": "code",
      "execution_count": null,
      "metadata": {
        "colab": {
          "base_uri": "https://localhost:8080/"
        },
        "id": "fAWhuU117uvs",
        "outputId": "3dd801ca-5097-4093-dd34-fdb932b706bd"
      },
      "outputs": [
        {
          "output_type": "stream",
          "name": "stdout",
          "text": [
            "Drive already mounted at /content/drive; to attempt to forcibly remount, call drive.mount(\"/content/drive\", force_remount=True).\n"
          ]
        },
        {
          "output_type": "stream",
          "name": "stderr",
          "text": [
            "/usr/local/lib/python3.7/dist-packages/ipykernel_launcher.py:7: FutureWarning: In a future version of pandas all arguments of DataFrame.drop except for the argument 'labels' will be keyword-only\n",
            "  import sys\n"
          ]
        }
      ],
      "source": [
        "import pandas as pd\n",
        "import datetime\n",
        "from google.colab import drive\n",
        "drive.mount('/content/drive')\n",
        "basepath = \"/content/drive/MyDrive/ISEF/Datasets/Historical Prices/BTC-USD.csv\"\n",
        "dfbase = pd.read_csv(basepath)\n",
        "dfbase = dfbase.drop(\"Adj Close\", 1)\n",
        "dfbase = dfbase.iloc[0:548,:] #Training set from Jan 31 2020 to July 31 2021\n",
        "\n",
        "scorelist = {\n",
        "    \"\":\"\",\n",
        "    \"\":\"\"\n",
        "} #dictionary of scorecolumnname and path"
      ]
    },
    {
      "cell_type": "code",
      "source": [
        "transMonth = {\"Jan\":\"01\",\"Feb\":\"02\",\"Mar\":\"03\",\"Apr\":\"04\",\"May\":\"05\",\"Jun\":\"06\",\"Jul\":\"07\",\"Aug\":\"08\",\"Sep\":\"09\",\"Oct\":\"10\",\"Nov\":\"11\",\"Dec\":\"12\"}\n",
        "\n",
        "a = \"2020-01-31\t\" #from historical prices\n",
        "def trans(strdate):\n",
        "    return datetime.datetime(int(strdate[0:4]), int(strdate[5:7]), int(strdate[8:10]))"
      ],
      "metadata": {
        "id": "gu_DN5RVHfvq"
      },
      "execution_count": null,
      "outputs": []
    },
    {
      "cell_type": "code",
      "source": [
        "start = trans(\"2020-01-31\") #to be compared to new dates for indexing\n",
        "for i in range(len(dfbase)):\n",
        "  dfbase.loc[i,\"Date\"] = trans(dfbase.loc[i,\"Date\"])"
      ],
      "metadata": {
        "id": "LFeW2tULDn6D"
      },
      "execution_count": null,
      "outputs": []
    },
    {
      "cell_type": "code",
      "source": [
        "for scoreset in scorelist:\n",
        "  dfAdd = pd.read_csv(scorelist[scoreset])\n",
        "  dfbase[scoreset + \"Scoresum\"] = 0\n",
        "  dfbase[scoreset + \"Scorecount\"] = 0\n",
        "  dfbase[scoreset + \"Scoreaverage\"] = 0\n",
        "\n",
        "  for i in range(len(dfAdd)):\n",
        "    ind = (dfAdd.loc[i,\"Date\"]-start).days\n",
        "    dfbase.loc[ind, scoreset + \"Scoresum\"] = dfbase.loc[ind, scoreset + \"Scoresum\"] + dfAdd.loc[i,\"Com\"] #depends on if we only use compound or others too\n",
        "    dfbase.loc[ind, scoreset + \"Scoresum\"] = dfbase.loc[ind, scoreset + \"Scoresum\"] + 1\n",
        "  \n",
        "  for i in range(len(dfbase)):\n",
        "    if dfbase[scoreset + \"Scorecount\"] != 0:\n",
        "      dfbase[scoreset + \"Scoreaverage\"] = dfbase[scoreset + \"Scoresum\"]/dfbase[scoreset + \"Scorecount\"]\n"
      ],
      "metadata": {
        "id": "HCOGZiIdJGOh"
      },
      "execution_count": null,
      "outputs": []
    },
    {
      "cell_type": "code",
      "source": [
        "dfbase.to_csv(\"MergedPriceScores\")"
      ],
      "metadata": {
        "id": "tOJjDUvkUgvr"
      },
      "execution_count": null,
      "outputs": []
    }
  ]
}