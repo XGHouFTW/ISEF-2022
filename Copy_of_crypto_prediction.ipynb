{
  "cells": [
    {
      "cell_type": "markdown",
      "metadata": {
        "id": "view-in-github",
        "colab_type": "text"
      },
      "source": [
        "<a href=\"https://colab.research.google.com/github/XGHouFTW/ISEF-2022/blob/main/Copy_of_crypto_prediction.ipynb\" target=\"_parent\"><img src=\"https://colab.research.google.com/assets/colab-badge.svg\" alt=\"Open In Colab\"/></a>"
      ]
    },
    {
      "cell_type": "code",
      "source": [
        "\"\"\"\n",
        "\n",
        "This notebook will collect and analyze \n",
        "\n",
        "\"\"\"\n",
        "a = 0\n",
        "print(a)"
      ],
      "metadata": {
        "id": "c0FbYloBzXoV",
        "colab": {
          "base_uri": "https://localhost:8080/"
        },
        "outputId": "d364ff61-0a34-4420-a2a5-161c375cb96e"
      },
      "execution_count": 2,
      "outputs": [
        {
          "output_type": "stream",
          "name": "stdout",
          "text": [
            "0\n"
          ]
        }
      ]
    },
    {
      "cell_type": "code",
      "source": [
        "a = a+1\n",
        "print(a)"
      ],
      "metadata": {
        "colab": {
          "base_uri": "https://localhost:8080/"
        },
        "id": "_OmT5avpCYl5",
        "outputId": "d1682115-e868-4b44-b412-d7b142f2a1b2"
      },
      "execution_count": 3,
      "outputs": [
        {
          "output_type": "stream",
          "name": "stdout",
          "text": [
            "1\n"
          ]
        }
      ]
    },
    {
      "cell_type": "code",
      "source": [
        "a = a*(-1)\n",
        "print(a)\n",
        "print(\"the most honorable mr. concertmaster\")\n",
        "print(\"Connor is a donut\")"
      ],
      "metadata": {
        "colab": {
          "base_uri": "https://localhost:8080/"
        },
        "id": "k0zBqT62ClvP",
        "outputId": "9da9fb8d-e9bd-4f32-ee06-cd590c6bc6d0"
      },
      "execution_count": 5,
      "outputs": [
        {
          "output_type": "stream",
          "name": "stdout",
          "text": [
            "1\n",
            "the most honorable mr. concertmaster\n",
            "Connor is a donut\n"
          ]
        }
      ]
    },
    {
      "cell_type": "code",
      "source": [
        ""
      ],
      "metadata": {
        "id": "WTjK8737C134"
      },
      "execution_count": null,
      "outputs": []
    }
  ],
  "metadata": {
    "colab": {
      "collapsed_sections": [],
      "name": "Copy of crypto-prediction.ipynb",
      "provenance": [],
      "include_colab_link": true
    },
    "kernelspec": {
      "display_name": "Python 3",
      "name": "python3"
    },
    "language_info": {
      "name": "python"
    }
  },
  "nbformat": 4,
  "nbformat_minor": 0
}