{
  "cells": [
    {
      "cell_type": "markdown",
      "metadata": {
        "id": "view-in-github",
        "colab_type": "text"
      },
      "source": [
        "<a href=\"https://colab.research.google.com/github/XGHouFTW/ISEF-2022/blob/tastyconcon/Copy_of_crypto_prediction.ipynb\" target=\"_parent\"><img src=\"https://colab.research.google.com/assets/colab-badge.svg\" alt=\"Open In Colab\"/></a>"
      ]
    },
    {
      "cell_type": "code",
      "source": [
        "\"\"\"\n",
        "\n",
        "This notebook will collect and analyze \n",
        "\n",
        "\"\"\"\n",
        "a = 0\n",
        "print(a)"
      ],
      "metadata": {
        "id": "c0FbYloBzXoV",
        "colab": {
          "base_uri": "https://localhost:8080/"
        },
        "outputId": "d364ff61-0a34-4420-a2a5-161c375cb96e"
      },
      "execution_count": null,
      "outputs": [
        {
          "output_type": "stream",
          "name": "stdout",
          "text": [
            "0\n"
          ]
        }
      ]
    },
    {
      "cell_type": "code",
      "source": [
        "a = a+1\n",
        "print(a)"
      ],
      "metadata": {
        "colab": {
          "base_uri": "https://localhost:8080/"
        },
        "id": "_OmT5avpCYl5",
        "outputId": "d1682115-e868-4b44-b412-d7b142f2a1b2"
      },
      "execution_count": null,
      "outputs": [
        {
          "output_type": "stream",
          "name": "stdout",
          "text": [
            "1\n"
          ]
        }
      ]
    },
    {
      "cell_type": "code",
      "source": [
        "a = a*(-1)\n",
        "print(a)\n",
        "print(\"the most honorable mr. concertmaster\")\n",
        "print(\"Connor is a donut\")\n",
        "print(\"Donuts are tasty\")\n",
        "print(\"therefore, Connor is Tasty\")"
      ],
      "metadata": {
        "colab": {
          "base_uri": "https://localhost:8080/"
        },
        "id": "k0zBqT62ClvP",
        "outputId": "0f957ff1-8aed-4aab-b4ac-5f75a973cf2d"
      },
      "execution_count": 7,
      "outputs": [
        {
          "output_type": "stream",
          "name": "stdout",
          "text": [
            "1\n",
            "the most honorable mr. concertmaster\n",
            "Connor is a donut\n",
            "Donuts are tasty\n",
            "therefore, Connor is Tasty\n"
          ]
        }
      ]
    },
    {
      "cell_type": "code",
      "source": [
        "# This line will install and import the VADER Library for later use in the script\n",
        "!pip install vaderSentiment\n",
        "import vaderSentiment"
      ],
      "metadata": {
        "id": "WTjK8737C134",
        "outputId": "6a570e24-973f-40e6-eeb0-fad94b20e308",
        "colab": {
          "base_uri": "https://localhost:8080/"
        }
      },
      "execution_count": null,
      "outputs": [
        {
          "output_type": "stream",
          "name": "stdout",
          "text": [
            "Collecting vaderSentiment\n",
            "  Downloading vaderSentiment-3.3.2-py2.py3-none-any.whl (125 kB)\n",
            "\u001b[?25l\r\u001b[K     |██▋                             | 10 kB 15.7 MB/s eta 0:00:01\r\u001b[K     |█████▏                          | 20 kB 9.1 MB/s eta 0:00:01\r\u001b[K     |███████▉                        | 30 kB 7.2 MB/s eta 0:00:01\r\u001b[K     |██████████▍                     | 40 kB 7.1 MB/s eta 0:00:01\r\u001b[K     |█████████████                   | 51 kB 5.4 MB/s eta 0:00:01\r\u001b[K     |███████████████▋                | 61 kB 5.5 MB/s eta 0:00:01\r\u001b[K     |██████████████████▏             | 71 kB 5.3 MB/s eta 0:00:01\r\u001b[K     |████████████████████▉           | 81 kB 5.9 MB/s eta 0:00:01\r\u001b[K     |███████████████████████▍        | 92 kB 5.9 MB/s eta 0:00:01\r\u001b[K     |██████████████████████████      | 102 kB 5.3 MB/s eta 0:00:01\r\u001b[K     |████████████████████████████▋   | 112 kB 5.3 MB/s eta 0:00:01\r\u001b[K     |███████████████████████████████▏| 122 kB 5.3 MB/s eta 0:00:01\r\u001b[K     |████████████████████████████████| 125 kB 5.3 MB/s \n",
            "\u001b[?25hRequirement already satisfied: requests in /usr/local/lib/python3.7/dist-packages (from vaderSentiment) (2.23.0)\n",
            "Requirement already satisfied: urllib3!=1.25.0,!=1.25.1,<1.26,>=1.21.1 in /usr/local/lib/python3.7/dist-packages (from requests->vaderSentiment) (1.24.3)\n",
            "Requirement already satisfied: chardet<4,>=3.0.2 in /usr/local/lib/python3.7/dist-packages (from requests->vaderSentiment) (3.0.4)\n",
            "Requirement already satisfied: certifi>=2017.4.17 in /usr/local/lib/python3.7/dist-packages (from requests->vaderSentiment) (2021.10.8)\n",
            "Requirement already satisfied: idna<3,>=2.5 in /usr/local/lib/python3.7/dist-packages (from requests->vaderSentiment) (2.10)\n",
            "Installing collected packages: vaderSentiment\n",
            "Successfully installed vaderSentiment-3.3.2\n"
          ]
        }
      ]
    },
    {
      "cell_type": "code",
      "source": [
        "import numpy as np\n",
        "import pandas as pd"
      ],
      "metadata": {
        "id": "OY2e4cr_HnlM"
      },
      "execution_count": null,
      "outputs": []
    },
    {
      "cell_type": "code",
      "source": [
        "for i in range(10):\n",
        "  print(i)"
      ],
      "metadata": {
        "id": "xNL5ivBKKrFJ",
        "outputId": "98894658-37d1-47a1-e6d7-622cf7d78fb7",
        "colab": {
          "base_uri": "https://localhost:8080/"
        }
      },
      "execution_count": null,
      "outputs": [
        {
          "output_type": "stream",
          "name": "stdout",
          "text": [
            "0\n",
            "1\n",
            "2\n",
            "3\n",
            "4\n",
            "5\n",
            "6\n",
            "7\n",
            "8\n",
            "9\n"
          ]
        }
      ]
    },
    {
      "cell_type": "code",
      "source": [
        ""
      ],
      "metadata": {
        "id": "gRtY8CyAKxRV"
      },
      "execution_count": null,
      "outputs": []
    }
  ],
  "metadata": {
    "colab": {
      "collapsed_sections": [],
      "name": "Copy of crypto-prediction.ipynb",
      "provenance": [],
      "include_colab_link": true
    },
    "kernelspec": {
      "display_name": "Python 3",
      "name": "python3"
    },
    "language_info": {
      "name": "python"
    }
  },
  "nbformat": 4,
  "nbformat_minor": 0
}