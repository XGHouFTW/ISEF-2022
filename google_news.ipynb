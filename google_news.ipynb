{
  "nbformat": 4,
  "nbformat_minor": 0,
  "metadata": {
    "colab": {
      "name": "google_news.ipynb",
      "provenance": [],
      "collapsed_sections": [],
      "include_colab_link": true
    },
    "kernelspec": {
      "name": "python3",
      "display_name": "Python 3"
    },
    "language_info": {
      "name": "python"
    }
  },
  "cells": [
    {
      "cell_type": "markdown",
      "metadata": {
        "id": "view-in-github",
        "colab_type": "text"
      },
      "source": [
        "<a href=\"https://colab.research.google.com/github/XGHouFTW/py-cryptopredict/blob/main/google_news.ipynb\" target=\"_parent\"><img src=\"https://colab.research.google.com/assets/colab-badge.svg\" alt=\"Open In Colab\"/></a>"
      ]
    },
    {
      "cell_type": "code",
      "execution_count": null,
      "metadata": {
        "id": "lu6dPkxT-Nu7"
      },
      "outputs": [],
      "source": [
        "from google.colab import drive\n",
        "\n",
        "drive.mount('/content/drive')\n",
        "import pandas as pd\n",
        "!pip install pygooglenews\n",
        "from pygooglenews import GoogleNews\n",
        "import datetime"
      ]
    },
    {
      "cell_type": "code",
      "source": [
        "gn = GoogleNews()\n",
        "\n",
        "query = \"pandemic\"\n",
        "\n",
        "def get_news(search):\n",
        "    stories = []\n",
        "    start_date = datetime.date(2020,1,31)\n",
        "    end_date = datetime.date(2022,1,31)\n",
        "    delta = datetime.timedelta(days=1)\n",
        "    date_list = pd.date_range(start_date, end_date).tolist()\n",
        "\n",
        "    for date in date_list[:-1]:\n",
        "        result = gn.search(search, from_=date.strftime('%Y-%m-%d'), to_=(date+delta).strftime('%Y-%m-%d'))\n",
        "        newsitem = result['entries']\n",
        "\n",
        "        for item in newsitem:\n",
        "            story = {\n",
        "                'title':item.title,\n",
        "                'link':item.link,\n",
        "                'published':item.published\n",
        "            }\n",
        "            stories.append(story)\n",
        "\n",
        "    return stories\n",
        "\n",
        "df = pd.DataFrame(get_news(query))"
      ],
      "metadata": {
        "id": "R3fb-xl2_HhX"
      },
      "execution_count": null,
      "outputs": []
    },
    {
      "cell_type": "code",
      "source": [
        "\n",
        "filepath = \"/content/drive/MyDrive/ISEF/Datasets/Google News/pandemic_news.csv\"\n",
        "#'/content/drive/My Drive/' + \"btc\" + '_news' + '.csv'\n",
        "transMonth = {\"Jan\":\"01\",\"Feb\":\"02\",\"Mar\":\"03\",\"Apr\":\"04\",\"May\":\"05\",\"Jun\":\"06\",\"Jul\":\"07\",\"Aug\":\"08\",\"Sep\":\"09\",\"Oct\":\"10\",\"Nov\":\"11\",\"Dec\":\"12\"}\n",
        "for i in range(len(df)):\n",
        "  datestr = df.loc[i,\"published\"]\n",
        "  df.loc[i,\"published\"] = datestr[12:16] + \"-\" + transMonth[datestr[8:11]] + \"-\" + datestr[5:7] #manipulate date formate\n",
        "\n",
        "df = df.rename({'published': 'Date',\"title\":\"Text\"}, axis=1)\n",
        "df.to_csv(filepath, index=False)"
      ],
      "metadata": {
        "id": "bq5rNYoqEkJO"
      },
      "execution_count": null,
      "outputs": []
    }
  ]
}