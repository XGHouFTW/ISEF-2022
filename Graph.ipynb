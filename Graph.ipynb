{
  "nbformat": 4,
  "nbformat_minor": 0,
  "metadata": {
    "colab": {
      "name": "Graph",
      "provenance": [],
      "collapsed_sections": [],
      "mount_file_id": "18tA0B_bu-5rKht3t_wdQcUlSZ0ovyYxT",
      "authorship_tag": "ABX9TyObqjq3mrYHmuoeZBP0A9R1",
      "include_colab_link": true
    },
    "kernelspec": {
      "name": "python3",
      "display_name": "Python 3"
    },
    "language_info": {
      "name": "python"
    }
  },
  "cells": [
    {
      "cell_type": "markdown",
      "metadata": {
        "id": "view-in-github",
        "colab_type": "text"
      },
      "source": [
        "<a href=\"https://colab.research.google.com/github/XGHouFTW/ISEF-2022/blob/main/Graph.ipynb\" target=\"_parent\"><img src=\"https://colab.research.google.com/assets/colab-badge.svg\" alt=\"Open In Colab\"/></a>"
      ]
    },
    {
      "cell_type": "code",
      "execution_count": 1,
      "metadata": {
        "colab": {
          "base_uri": "https://localhost:8080/"
        },
        "id": "fAWhuU117uvs",
        "outputId": "7d30d9c4-847e-4502-df97-8a86f68da8a2"
      },
      "outputs": [
        {
          "output_type": "stream",
          "name": "stdout",
          "text": [
            "Drive already mounted at /content/drive; to attempt to forcibly remount, call drive.mount(\"/content/drive\", force_remount=True).\n"
          ]
        }
      ],
      "source": [
        "import pandas as pd\n",
        "import datetime\n",
        "from google.colab import drive\n",
        "drive.mount('/content/drive')\n",
        "ETHpricepath = \"/content/drive/MyDrive/ISEF/Datasets/ETH-USD.csv\"\n",
        "DOGEpricepath = \"/content/drive/MyDrive/ISEF/Datasets/DOGE-USD.csv\"\n",
        "BTCpricepath = \"/content/drive/MyDrive/ISEF/Datasets/BTC-USD.csv\"\n",
        "ETHscorepath = \"/content/drive/MyDrive/ISEF/Datasets/Ethereum_scores.csv\"\n",
        "BTCscorepath = \"/content/drive/MyDrive/ISEF/Datasets/Bitcoin_scores.csv\"\n"
      ]
    },
    {
      "cell_type": "code",
      "source": [
        "trans = {\"Jan\":\"01\",\"Feb\":\"02\",\"Mar\":\"03\",\"Apr\":\"04\",\"May\":\"05\",\"Jun\":\"06\",\"Jul\":\"07\",\"Aug\":\"08\",\"Sep\":\"09\",\"Oct\":\"10\",\"Nov\":\"11\",\"Dec\":\"12\"}\n",
        "\n",
        "a = \"2021-11-15 07:26:39+00:00\" #from scores\n",
        "def trans(strdate):\n",
        "  if len(strdate) >= 10 and strdate[0:4].isnumeric() and strdate[5:7].isnumeric() and strdate[8:10].isnumeric():\n",
        "    return datetime.datetime(int(strdate[0:4]), int(strdate[5:7]), int(strdate[8:10]))\n",
        "  else:\n",
        "    print(strdate, \" date conversion error\")\n",
        "    return\n",
        "\n",
        "dfessential = pd.DataFrame() #for every date, have price average, difference, average sentiment for twitter\n",
        "dfdates = pd.read_csv(BTCpricepath)\n",
        "textcolumn = dfdates.loc[:,\"Date\"]\n",
        "dateslist = []\n",
        "for string in textcolumn:\n",
        "  dateslist.append(trans(string))\n",
        "\n",
        "dfessential[\"Date\"] = dateslist"
      ],
      "metadata": {
        "id": "EUQgIGg6Xgb5"
      },
      "execution_count": 2,
      "outputs": []
    },
    {
      "cell_type": "code",
      "source": [
        "dfBTC = pd.read_csv(BTCpricepath)\n",
        "pricelist = []\n",
        "derivprice = []\n",
        "start = trans(dfBTC.loc[0,\"Date\"])\n",
        "\n",
        "for i in range(len(dfBTC)) :\n",
        "  a = dfBTC.loc[i, \"Open\"]\n",
        "  b = dfBTC.loc[i, \"Close\"]\n",
        "  pricelist.append((a+b)/2)\n",
        "  derivprice.append((b-a)*100/a)\n",
        "dfessential[\"BTC Daily Price\"] = pricelist\n",
        "dfessential[\"BTC Daily Percent Change\"] = derivprice"
      ],
      "metadata": {
        "id": "CiDSDhbMXVzN"
      },
      "execution_count": 3,
      "outputs": []
    },
    {
      "cell_type": "code",
      "source": [
        "dfETH = pd.read_csv(ETHpricepath)\n",
        "pricelist = []\n",
        "derivprice = []\n",
        "startETH = trans(dfETH.loc[0,\"Date\"])\n",
        "\n",
        "for i in range((startETH-start).days):\n",
        "  pricelist.append(\"\")\n",
        "  derivprice.append(\"\")\n",
        "\n",
        "for i in range(len(dfETH)) :\n",
        "  a = dfETH.loc[i, \"Open\"]\n",
        "  b = dfETH.loc[i, \"Close\"]\n",
        "  pricelist.append((a+b)/2)\n",
        "  derivprice.append((b-a)*100/a)\n",
        "dfessential[\"ETH Daily Price\"] = pricelist\n",
        "dfessential[\"ETH Daily Percent Change\"] = derivprice"
      ],
      "metadata": {
        "id": "asx5BjmD3awI"
      },
      "execution_count": 4,
      "outputs": []
    },
    {
      "cell_type": "code",
      "source": [
        "dfDOGE = pd.read_csv(DOGEpricepath)\n",
        "pricelist = []\n",
        "derivprice = []\n",
        "startDOGE = trans(dfDOGE.loc[0,\"Date\"])\n",
        "\n",
        "for i in range((startDOGE-start).days):\n",
        "  pricelist.append(\"\")\n",
        "  derivprice.append(\"\")\n",
        "\n",
        "for i in range(len(dfDOGE)) :\n",
        "  a = dfDOGE.loc[i, \"Open\"]\n",
        "  b = dfDOGE.loc[i, \"Close\"]\n",
        "  pricelist.append((a+b)/2)\n",
        "  derivprice.append((b-a)*100/a)\n",
        "dfessential[\"DOGE Daily Price\"] = pricelist\n",
        "dfessential[\"DOGE Daily Percent Change\"] = derivprice"
      ],
      "metadata": {
        "id": "WC2q872K5kxd"
      },
      "execution_count": 5,
      "outputs": []
    },
    {
      "cell_type": "code",
      "source": [
        "dfETHtweets = pd.read_csv(ETHscorepath)\n",
        "dfessential[\"ETH Tweets Compound\"] = \"\"\n",
        "i = 0\n",
        "while i < len(dfETHtweets):\n",
        "  streak = 0\n",
        "  sum = dfETHtweets.loc[i,\"Com\"]\n",
        "  c = trans(dfETHtweets.loc[i,\"date\"])\n",
        "  while (i < len(dfETHtweets)-1 and c == trans(dfETHtweets.loc[i+1,\"date\"])):\n",
        "    i = i+1\n",
        "    streak = streak + 1\n",
        "    sum = sum + dfETHtweets.loc[i,\"Com\"]\n",
        "    dfessential.loc[(c-start).days, \"ETH Tweets Compound\"] = sum/streak\n",
        "  i = i+1\n",
        "\n"
      ],
      "metadata": {
        "id": "XDurI0waCYx_"
      },
      "execution_count": 6,
      "outputs": []
    },
    {
      "cell_type": "code",
      "source": [
        "dfBTCtweets = pd.read_csv(BTCscorepath)\n",
        "dfessential[\"BTC Tweets Compound\"] = \"\"\n",
        "i = 0\n",
        "while i < len(dfBTCtweets):\n",
        "  streak = 0\n",
        "  sum = dfBTCtweets.loc[i,\"Com\"]\n",
        "  c = trans(dfBTCtweets.loc[i,\"date\"])\n",
        "  while (i < len(dfBTCtweets)-1 and c == trans(dfBTCtweets.loc[i+1,\"date\"])):\n",
        "      i = i+1\n",
        "      streak = streak + 1\n",
        "      sum = sum + dfBTCtweets.loc[i,\"Com\"]\n",
        "  dfessential.loc[(c-start).days, \"BTC Tweets Compound\"] = sum/streak\n",
        "  i = i+1\n",
        "  print(i)\n",
        "\n"
      ],
      "metadata": {
        "colab": {
          "base_uri": "https://localhost:8080/",
          "height": 669
        },
        "id": "yRyg1rEHR6pB",
        "outputId": "cbbff70f-f469-4025-b4f6-25e839734888"
      },
      "execution_count": 7,
      "outputs": [
        {
          "output_type": "stream",
          "name": "stdout",
          "text": [
            "3526\n",
            "7876\n",
            "13523\n",
            "16553\n",
            "19831\n",
            "21525\n",
            "26176\n",
            "30185\n",
            "32470\n",
            "36991\n",
            "39245\n",
            "42809\n",
            "44443\n",
            "48366\n",
            "48583\n",
            "50509\n",
            "52548\n",
            "56559\n",
            "60034\n",
            "63774\n",
            "['ETH', 'BTC', 'Bitcoin']  date conversion error\n",
            "64943\n",
            "['ETH', 'BTC', 'Bitcoin']  date conversion error\n"
          ]
        },
        {
          "output_type": "stream",
          "name": "stderr",
          "text": [
            "/usr/local/lib/python3.7/dist-packages/ipykernel_launcher.py:12: RuntimeWarning: invalid value encountered in double_scalars\n",
            "  if sys.path[0] == '':\n"
          ]
        },
        {
          "output_type": "error",
          "ename": "TypeError",
          "evalue": "ignored",
          "traceback": [
            "\u001b[0;31m---------------------------------------------------------------------------\u001b[0m",
            "\u001b[0;31mTypeError\u001b[0m                                 Traceback (most recent call last)",
            "\u001b[0;32m<ipython-input-7-124b48ccfeba>\u001b[0m in \u001b[0;36m<module>\u001b[0;34m()\u001b[0m\n\u001b[1;32m     10\u001b[0m       \u001b[0mstreak\u001b[0m \u001b[0;34m=\u001b[0m \u001b[0mstreak\u001b[0m \u001b[0;34m+\u001b[0m \u001b[0;36m1\u001b[0m\u001b[0;34m\u001b[0m\u001b[0;34m\u001b[0m\u001b[0m\n\u001b[1;32m     11\u001b[0m       \u001b[0msum\u001b[0m \u001b[0;34m=\u001b[0m \u001b[0msum\u001b[0m \u001b[0;34m+\u001b[0m \u001b[0mdfBTCtweets\u001b[0m\u001b[0;34m.\u001b[0m\u001b[0mloc\u001b[0m\u001b[0;34m[\u001b[0m\u001b[0mi\u001b[0m\u001b[0;34m,\u001b[0m\u001b[0;34m\"Com\"\u001b[0m\u001b[0;34m]\u001b[0m\u001b[0;34m\u001b[0m\u001b[0;34m\u001b[0m\u001b[0m\n\u001b[0;32m---> 12\u001b[0;31m   \u001b[0mdfessential\u001b[0m\u001b[0;34m.\u001b[0m\u001b[0mloc\u001b[0m\u001b[0;34m[\u001b[0m\u001b[0;34m(\u001b[0m\u001b[0mc\u001b[0m\u001b[0;34m-\u001b[0m\u001b[0mstart\u001b[0m\u001b[0;34m)\u001b[0m\u001b[0;34m.\u001b[0m\u001b[0mdays\u001b[0m\u001b[0;34m,\u001b[0m \u001b[0;34m\"BTC Tweets Compound\"\u001b[0m\u001b[0;34m]\u001b[0m \u001b[0;34m=\u001b[0m \u001b[0msum\u001b[0m\u001b[0;34m/\u001b[0m\u001b[0mstreak\u001b[0m\u001b[0;34m\u001b[0m\u001b[0;34m\u001b[0m\u001b[0m\n\u001b[0m\u001b[1;32m     13\u001b[0m   \u001b[0mi\u001b[0m \u001b[0;34m=\u001b[0m \u001b[0mi\u001b[0m\u001b[0;34m+\u001b[0m\u001b[0;36m1\u001b[0m\u001b[0;34m\u001b[0m\u001b[0;34m\u001b[0m\u001b[0m\n\u001b[1;32m     14\u001b[0m   \u001b[0mprint\u001b[0m\u001b[0;34m(\u001b[0m\u001b[0mi\u001b[0m\u001b[0;34m)\u001b[0m\u001b[0;34m\u001b[0m\u001b[0;34m\u001b[0m\u001b[0m\n",
            "\u001b[0;31mTypeError\u001b[0m: unsupported operand type(s) for -: 'NoneType' and 'datetime.datetime'"
          ]
        }
      ]
    },
    {
      "cell_type": "code",
      "source": [
        "#dfessential.to_csv(\"GraphEssentials.csv\")"
      ],
      "metadata": {
        "id": "i3Uz9g6V8f_S"
      },
      "execution_count": null,
      "outputs": []
    },
    {
      "cell_type": "code",
      "source": [
        "a = datetime.datetime(2014, 9, 17, 0, 0)\n",
        "\n",
        "dfessential.loc[(a-start).days,\"Date\"]"
      ],
      "metadata": {
        "id": "99hYUGwj4AcQ"
      },
      "execution_count": null,
      "outputs": []
    },
    {
      "cell_type": "code",
      "source": [
        "dfessential"
      ],
      "metadata": {
        "id": "9Vx_nTqE_STZ"
      },
      "execution_count": null,
      "outputs": []
    },
    {
      "cell_type": "code",
      "source": [
        "print(len(dfBTCtweets))\n",
        "print(len(dfETHtweets))"
      ],
      "metadata": {
        "id": "sMdheuUORfzF"
      },
      "execution_count": null,
      "outputs": []
    },
    {
      "cell_type": "code",
      "source": [
        "a = \"['ET\"\n",
        "a.isnumeric"
      ],
      "metadata": {
        "id": "Ro7x_fQHV03f"
      },
      "execution_count": null,
      "outputs": []
    },
    {
      "cell_type": "code",
      "source": [
        ""
      ],
      "metadata": {
        "id": "fVw0KokA9sVz"
      },
      "execution_count": null,
      "outputs": []
    }
  ]
}