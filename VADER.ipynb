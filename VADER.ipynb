{
  "cells": [
    {
      "cell_type": "markdown",
      "metadata": {
        "id": "view-in-github",
        "colab_type": "text"
      },
      "source": [
        "<a href=\"https://colab.research.google.com/github/XGHouFTW/py-cryptopredict/blob/main/VADER.ipynb\" target=\"_parent\"><img src=\"https://colab.research.google.com/assets/colab-badge.svg\" alt=\"Open In Colab\"/></a>"
      ]
    },
    {
      "cell_type": "code",
      "execution_count": null,
      "metadata": {
        "id": "4Mwgb83HBbzF"
      },
      "outputs": [],
      "source": [
        "import pandas as pd\n",
        "import numpy as np\n",
        "\n",
        "!pip install vaderSentiment ipdb\n",
        "from google.colab import drive\n",
        "drive.mount('/content/drive')\n",
        "\n",
        "keyword = [\"bitcoin\",\"ethereum\",\"dogecoin\",\"cryptocurrency\",\"economy\",\"finance\",\"politics\",\"pandemic\"]\n",
        "\n",
        "#paths of user text sets, filename:path\n",
        "#preprocessed dataset should have \"Text\" and \"Date\" columns"
      ]
    },
    {
      "cell_type": "code",
      "execution_count": null,
      "metadata": {
        "id": "BP5FO9vCxe6e"
      },
      "outputs": [],
      "source": [
        "from vaderSentiment.vaderSentiment import SentimentIntensityAnalyzer\n",
        "sid_obj = SentimentIntensityAnalyzer()\n",
        "\n",
        "def VADER(sentence):\n",
        "  sentiment_dict = sid_obj.polarity_scores(sentence)\n",
        "  return [value for value in sentiment_dict.values()]\n",
        "  "
      ]
    },
    {
      "cell_type": "code",
      "execution_count": null,
      "metadata": {
        "id": "O7Ql7ck6zSZL"
      },
      "outputs": [],
      "source": [
        "for word in keyword:\n",
        "  filename = \"reddit-\" + word\n",
        "  filepath = \"/content/drive/MyDrive/ISEF/Datasets/Reddit/Reddit V3/CSV/reddit-\" + word + \".csv\"\n",
        "  dfAdd = pd.read_csv(filepath)\n",
        "  text_list = list(dfAdd['text'])\n",
        "  vader_list = []\n",
        "  for i, text in enumerate(text_list):\n",
        "    vader_list.append(VADER(text))\n",
        "  vader_list = np.array(vader_list)\n",
        "  df = pd.DataFrame(vader_list, columns = ['neg', 'neu', 'pos', 'compound'])\n",
        "  dfAdd = pd.concat([dfAdd, df], axis=1)\n",
        "  dfAdd[\"ScoreTuple\"] = dfAdd[\"text\"].apply(lambda text: VADER(text))\n",
        "  \n",
        "  dfAdd.to_csv(filename)"
      ]
    }
  ],
  "metadata": {
    "colab": {
      "collapsed_sections": [],
      "name": "VADER.ipynb",
      "provenance": [],
      "include_colab_link": true
    },
    "kernelspec": {
      "display_name": "Python 3",
      "name": "python3"
    },
    "language_info": {
      "name": "python"
    }
  },
  "nbformat": 4,
  "nbformat_minor": 0
}