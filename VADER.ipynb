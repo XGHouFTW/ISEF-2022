{
  "cells": [
    {
      "cell_type": "markdown",
      "metadata": {
        "id": "view-in-github",
        "colab_type": "text"
      },
      "source": [
        "<a href=\"https://colab.research.google.com/github/XGHouFTW/ISEF-2022/blob/vader/VADER.ipynb\" target=\"_parent\"><img src=\"https://colab.research.google.com/assets/colab-badge.svg\" alt=\"Open In Colab\"/></a>"
      ]
    },
    {
      "cell_type": "code",
      "execution_count": 1,
      "metadata": {
        "colab": {
          "base_uri": "https://localhost:8080/"
        },
        "id": "4Mwgb83HBbzF",
        "outputId": "dccdf424-b2db-4d34-cfbc-978efde090d2"
      },
      "outputs": [
        {
          "output_type": "stream",
          "name": "stdout",
          "text": [
            "Requirement already satisfied: vaderSentiment in /usr/local/lib/python3.7/dist-packages (3.3.2)\n",
            "Requirement already satisfied: requests in /usr/local/lib/python3.7/dist-packages (from vaderSentiment) (2.23.0)\n",
            "Requirement already satisfied: idna<3,>=2.5 in /usr/local/lib/python3.7/dist-packages (from requests->vaderSentiment) (2.10)\n",
            "Requirement already satisfied: chardet<4,>=3.0.2 in /usr/local/lib/python3.7/dist-packages (from requests->vaderSentiment) (3.0.4)\n",
            "Requirement already satisfied: urllib3!=1.25.0,!=1.25.1,<1.26,>=1.21.1 in /usr/local/lib/python3.7/dist-packages (from requests->vaderSentiment) (1.24.3)\n",
            "Requirement already satisfied: certifi>=2017.4.17 in /usr/local/lib/python3.7/dist-packages (from requests->vaderSentiment) (2021.10.8)\n",
            "Drive already mounted at /content/drive; to attempt to forcibly remount, call drive.mount(\"/content/drive\", force_remount=True).\n"
          ]
        },
        {
          "output_type": "stream",
          "name": "stderr",
          "text": [
            "/usr/local/lib/python3.7/dist-packages/IPython/core/interactiveshell.py:2718: DtypeWarning: Columns (5,6,7,12) have mixed types.Specify dtype option on import or set low_memory=False.\n",
            "  interactivity=interactivity, compiler=compiler, result=result)\n"
          ]
        }
      ],
      "source": [
        "import pandas as pd\n",
        "!pip install vaderSentiment\n",
        "from google.colab import drive\n",
        "drive.mount('/content/drive')\n",
        "path = \"/content/drive/MyDrive/archive.zip (Unzipped Files)/Bitcoin_tweets.csv\"\n",
        "df = pd.read_csv(path)"
      ]
    },
    {
      "cell_type": "code",
      "execution_count": 2,
      "metadata": {
        "id": "7Y0Lez84xBxs"
      },
      "outputs": [],
      "source": [
        "df = df.dropna()\n",
        "textcolumn = df.loc[:,\"text\"]\n",
        "sentlistneg = []\n",
        "sentlistneu = []\n",
        "sentlistpos = []\n",
        "sentlistcom = []"
      ]
    },
    {
      "cell_type": "code",
      "execution_count": 3,
      "metadata": {
        "id": "BP5FO9vCxe6e"
      },
      "outputs": [],
      "source": [
        "from vaderSentiment.vaderSentiment import SentimentIntensityAnalyzer\n",
        "sid_obj = SentimentIntensityAnalyzer()\n",
        "\n",
        "def VADER(sentence):\n",
        "  sentiment_dict = sid_obj.polarity_scores(sentence)\n",
        "  sentlistneg.append(sentiment_dict['neg'])\n",
        "  sentlistneu.append(sentiment_dict['neu'])\n",
        "  sentlistpos.append(sentiment_dict['pos'])\n",
        "  sentlistcom.append(sentiment_dict['compound'])"
      ]
    },
    {
      "cell_type": "code",
      "execution_count": 4,
      "metadata": {
        "colab": {
          "base_uri": "https://localhost:8080/"
        },
        "id": "O7Ql7ck6zSZL",
        "outputId": "ba18ce82-c00d-4218-9dc5-67d85d233f75"
      },
      "outputs": [
        {
          "output_type": "stream",
          "name": "stdout",
          "text": [
            "0\n"
          ]
        }
      ],
      "source": [
        "i = 0\n",
        "for comment in textcolumn:\n",
        "  VADER(comment)\n",
        "print(i)"
      ]
    },
    {
      "cell_type": "code",
      "execution_count": 5,
      "metadata": {
        "id": "LCW_0UI_FX9C"
      },
      "outputs": [],
      "source": [
        "df[\"Neg\"] = sentlistneg\n",
        "df[\"Neu\"] = sentlistneu\n",
        "df[\"Pos\"] = sentlistpos\n",
        "df[\"Com\"] = sentlistcom\n",
        "\n",
        "df.to_csv(\"scores.csv\")"
      ]
    }
  ],
  "metadata": {
    "colab": {
      "collapsed_sections": [],
      "name": "VADER.ipynb",
      "provenance": [],
      "mount_file_id": "19QgCG-9WGwpA9uYR41sh_pg25OymYb6v",
      "authorship_tag": "ABX9TyOkCRyvNPX5Deet4zbqJX4Q",
      "include_colab_link": true
    },
    "kernelspec": {
      "display_name": "Python 3",
      "name": "python3"
    },
    "language_info": {
      "name": "python"
    }
  },
  "nbformat": 4,
  "nbformat_minor": 0
}