{
  "cells": [
    {
      "cell_type": "markdown",
      "metadata": {
        "id": "view-in-github",
        "colab_type": "text"
      },
      "source": [
        "<a href=\"https://colab.research.google.com/github/XGHouFTW/ISEF-2022/blob/main/VADER.ipynb\" target=\"_parent\"><img src=\"https://colab.research.google.com/assets/colab-badge.svg\" alt=\"Open In Colab\"/></a>"
      ]
    },
    {
      "cell_type": "code",
      "execution_count": 1,
      "metadata": {
        "colab": {
          "base_uri": "https://localhost:8080/"
        },
        "id": "4Mwgb83HBbzF",
        "outputId": "6e650603-bd4b-4f97-cda3-c0e5b5da99c7"
      },
      "outputs": [
        {
          "output_type": "stream",
          "name": "stdout",
          "text": [
            "Collecting vaderSentiment\n",
            "  Downloading vaderSentiment-3.3.2-py2.py3-none-any.whl (125 kB)\n",
            "\u001b[?25l\r\u001b[K     |██▋                             | 10 kB 20.2 MB/s eta 0:00:01\r\u001b[K     |█████▏                          | 20 kB 12.8 MB/s eta 0:00:01\r\u001b[K     |███████▉                        | 30 kB 8.5 MB/s eta 0:00:01\r\u001b[K     |██████████▍                     | 40 kB 3.8 MB/s eta 0:00:01\r\u001b[K     |█████████████                   | 51 kB 3.8 MB/s eta 0:00:01\r\u001b[K     |███████████████▋                | 61 kB 4.5 MB/s eta 0:00:01\r\u001b[K     |██████████████████▏             | 71 kB 4.7 MB/s eta 0:00:01\r\u001b[K     |████████████████████▉           | 81 kB 4.7 MB/s eta 0:00:01\r\u001b[K     |███████████████████████▍        | 92 kB 5.2 MB/s eta 0:00:01\r\u001b[K     |██████████████████████████      | 102 kB 4.4 MB/s eta 0:00:01\r\u001b[K     |████████████████████████████▋   | 112 kB 4.4 MB/s eta 0:00:01\r\u001b[K     |███████████████████████████████▏| 122 kB 4.4 MB/s eta 0:00:01\r\u001b[K     |████████████████████████████████| 125 kB 4.4 MB/s \n",
            "\u001b[?25hRequirement already satisfied: requests in /usr/local/lib/python3.7/dist-packages (from vaderSentiment) (2.23.0)\n",
            "Requirement already satisfied: certifi>=2017.4.17 in /usr/local/lib/python3.7/dist-packages (from requests->vaderSentiment) (2021.10.8)\n",
            "Requirement already satisfied: chardet<4,>=3.0.2 in /usr/local/lib/python3.7/dist-packages (from requests->vaderSentiment) (3.0.4)\n",
            "Requirement already satisfied: idna<3,>=2.5 in /usr/local/lib/python3.7/dist-packages (from requests->vaderSentiment) (2.10)\n",
            "Requirement already satisfied: urllib3!=1.25.0,!=1.25.1,<1.26,>=1.21.1 in /usr/local/lib/python3.7/dist-packages (from requests->vaderSentiment) (1.24.3)\n",
            "Installing collected packages: vaderSentiment\n",
            "Successfully installed vaderSentiment-3.3.2\n",
            "Drive already mounted at /content/drive; to attempt to forcibly remount, call drive.mount(\"/content/drive\", force_remount=True).\n"
          ]
        }
      ],
      "source": [
        "import pandas as pd\n",
        "!pip install vaderSentiment\n",
        "from google.colab import drive\n",
        "drive.mount('/content/drive')\n",
        "textlist = {\n",
        "    \"\":\"\",\n",
        "    \"\":\"\",\n",
        "}\n",
        "#paths of user text sets, filename:path\n",
        "#preprocessed dataset should have \"Text\" and \"Date\" columns"
      ]
    },
    {
      "cell_type": "code",
      "execution_count": 2,
      "metadata": {
        "id": "BP5FO9vCxe6e"
      },
      "outputs": [],
      "source": [
        "from vaderSentiment.vaderSentiment import SentimentIntensityAnalyzer\n",
        "sid_obj = SentimentIntensityAnalyzer()\n",
        "\n",
        "def VADER(sentence):\n",
        "  sentiment_dict = sid_obj.polarity_scores(sentence)\n",
        "  return sentiment_dict\n",
        "  "
      ]
    },
    {
      "cell_type": "code",
      "execution_count": 3,
      "metadata": {
        "colab": {
          "base_uri": "https://localhost:8080/"
        },
        "id": "O7Ql7ck6zSZL",
        "outputId": "e8f0d472-6ffc-4b7d-e52f-914197103a60"
      },
      "outputs": [
        {
          "output_type": "stream",
          "name": "stdout",
          "text": [
            "{'neg': 0.0, 'neu': 1.0, 'pos': 0.0, 'compound': 0.0}\n",
            "<class 'dict'>\n"
          ]
        }
      ],
      "source": [
        "for textset in textlist: \n",
        "  dfAdd = pd.read_csv(textlist[textset])\n",
        "  dfAdd[\"Pos\"] = 0\n",
        "  dfAdd[\"Neu\"] = 0\n",
        "  dfAdd[\"Neg\"] = 0\n",
        "  dfAdd[\"Com\"] = 0\n",
        "\n",
        "  for i in range(len(dfAdd)):\n",
        "    scoredict = VADER(dfAdd.loc[i,\"Text\"])\n",
        "    dfAdd.loc[i,\"Pos\"] = scoredict[\"pos\"]\n",
        "    dfAdd.loc[i,\"Neu\"] = scoredict[\"neu\"]\n",
        "    dfAdd.loc[i,\"Neg\"] = scoredict[\"neg\"]\n",
        "    dfAdd.loc[i,\"Com\"] = scoredict[\"compound\"]\n",
        "  \n",
        "  dfAdd.to_csv(textset)"
      ]
    },
    {
      "cell_type": "code",
      "execution_count": null,
      "metadata": {
        "id": "LCW_0UI_FX9C"
      },
      "outputs": [],
      "source": [
        ""
      ]
    }
  ],
  "metadata": {
    "colab": {
      "collapsed_sections": [],
      "name": "VADER.ipynb",
      "provenance": [],
      "mount_file_id": "19QgCG-9WGwpA9uYR41sh_pg25OymYb6v",
      "authorship_tag": "ABX9TyO1fSkTQsMDcAI5XKMSymBk",
      "include_colab_link": true
    },
    "kernelspec": {
      "display_name": "Python 3",
      "name": "python3"
    },
    "language_info": {
      "name": "python"
    }
  },
  "nbformat": 4,
  "nbformat_minor": 0
}