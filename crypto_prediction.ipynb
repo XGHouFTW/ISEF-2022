{
  "cells": [
    {
      "cell_type": "code",
      "source": [
        "\"\"\"\n",
        "\n",
        "This notebook will collect and analyze \n",
        "\n",
        "\"\"\"\n",
        "a = 0\n",
        "print(a)"
      ],
      "metadata": {
        "id": "c0FbYloBzXoV",
        "colab": {
          "base_uri": "https://localhost:8080/"
        },
        "outputId": "6b668f4d-d0a8-4e23-a4bb-2af049414ca8"
      },
      "execution_count": null,
      "outputs": [
        {
          "output_type": "stream",
          "name": "stdout",
          "text": [
            "0\n"
          ]
        }
      ]
    },
    {
      "cell_type": "code",
      "source": [
        "a = a+1\n",
        "print(a)"
      ],
      "metadata": {
        "colab": {
          "base_uri": "https://localhost:8080/"
        },
        "id": "_OmT5avpCYl5",
        "outputId": "4a92ef42-8486-4f63-c064-866bd83b5a59"
      },
      "execution_count": null,
      "outputs": [
        {
          "output_type": "stream",
          "name": "stdout",
          "text": [
            "1\n"
          ]
        }
      ]
    },
    {
      "cell_type": "code",
      "source": [
        "a = a*(-1)\n",
        "print(a)\n",
        "print(\"the most honorable mr. concertmaster\")"
      ],
      "metadata": {
        "colab": {
          "base_uri": "https://localhost:8080/"
        },
        "id": "k0zBqT62ClvP",
        "outputId": "188f0670-d088-4060-f8d2-065476250695"
      },
      "execution_count": null,
      "outputs": [
        {
          "output_type": "stream",
          "name": "stdout",
          "text": [
            "1\n",
            "the most honorable mr. concertmaster\n"
          ]
        }
      ]
    },
    {
      "cell_type": "code",
      "source": [
        ""
      ],
      "metadata": {
        "id": "WTjK8737C134"
      },
      "execution_count": null,
      "outputs": []
    }
  ],
  "metadata": {
    "colab": {
      "collapsed_sections": [],
      "name": "crypto-prediction.ipynb",
      "provenance": []
    },
    "kernelspec": {
      "display_name": "Python 3",
      "name": "python3"
    },
    "language_info": {
      "name": "python"
    }
  },
  "nbformat": 4,
  "nbformat_minor": 0
}
