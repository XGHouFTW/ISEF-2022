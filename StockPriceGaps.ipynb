{
  "nbformat": 4,
  "nbformat_minor": 0,
  "metadata": {
    "colab": {
      "name": "StockPriceGaps.ipynb",
      "provenance": [],
      "authorship_tag": "ABX9TyP1b58QTZsT6wY0raeTqiuh",
      "include_colab_link": true
    },
    "kernelspec": {
      "name": "python3",
      "display_name": "Python 3"
    },
    "language_info": {
      "name": "python"
    }
  },
  "cells": [
    {
      "cell_type": "markdown",
      "metadata": {
        "id": "view-in-github",
        "colab_type": "text"
      },
      "source": [
        "<a href=\"https://colab.research.google.com/github/XGHouFTW/py-cryptopredict/blob/main/StockPriceGaps.ipynb\" target=\"_parent\"><img src=\"https://colab.research.google.com/assets/colab-badge.svg\" alt=\"Open In Colab\"/></a>"
      ]
    },
    {
      "cell_type": "code",
      "execution_count": null,
      "metadata": {
        "id": "S0yMfBK6yU6a"
      },
      "outputs": [],
      "source": [
        "import pandas as pd\n",
        "import datetime\n",
        "from google.colab import drive\n",
        "drive.mount('/content/drive')"
      ]
    },
    {
      "cell_type": "code",
      "source": [
        "transMonth = {\"Jan\":\"01\",\"Feb\":\"02\",\"Mar\":\"03\",\"Apr\":\"04\",\"May\":\"05\",\"Jun\":\"06\",\"Jul\":\"07\",\"Aug\":\"08\",\"Sep\":\"09\",\"Oct\":\"10\",\"Nov\":\"11\",\"Dec\":\"12\"}\n",
        "\n",
        "start = \"2020-01-31\" #from historical prices\n",
        "end = \"2022-01-31\" #732 days\n",
        "def trans(strdate):\n",
        "    return datetime.datetime(int(strdate[0:4]), int(strdate[5:7]), int(strdate[8:10]))"
      ],
      "metadata": {
        "id": "9pfgXMosylGF"
      },
      "execution_count": null,
      "outputs": []
    },
    {
      "cell_type": "code",
      "source": [
        "def rowinsert(row_number, df, row_value): #there does not exist a built in function for inserting a new row at a chosen index\n",
        "    df1 = df[0:row_number]\n",
        "    df2 = df[row_number:]\n",
        "    df1.loc[row_number]=row_value\n",
        "    df_result = pd.concat([df1, df2])\n",
        "    df_result.index = [*range(df_result.shape[0])]\n",
        "\n",
        "    return df_result"
      ],
      "metadata": {
        "id": "vuPS75_r-g7s"
      },
      "execution_count": null,
      "outputs": []
    },
    {
      "cell_type": "code",
      "source": [
        "cryptopricekey = [\"BTC\",\"ETH\",\"DOGE\"]\n",
        "cryptobasepath = \"/content/drive/MyDrive/ISEF/Datasets/Historical Prices/\" # + cryptopricekey + \"-USD.csv\"\n",
        "stockpricekey = [\"AAPL\",\"AMC\",\"DJI\",\"GME\",\"NASDAQ\",\"S&P\",\"TSLA\"]\n",
        "stockbasepath = \"/content/drive/MyDrive/ISEF/Datasets/Stonks/Raw/\" # + stockpricekey + \"_historical.csv\"\n",
        "\n",
        "searchkey = [\"bitcoin\",\"ethereum\",\"dogecoin\",\"cryptocurrency\",\"economy\",\"finance\",\"politics\",\"pandemic\"]\n",
        "dfPrice = pd.DataFrame()\n",
        "dfAddDate = pd.read_csv(\"/content/drive/MyDrive/ISEF/Datasets/Historical Prices/BTC-USD.csv\")\n",
        "dfPrice[\"Date\"] = dfAddDate[\"Date\"].apply(lambda text: trans(text))"
      ],
      "metadata": {
        "id": "wd4SxQEe6TPU"
      },
      "execution_count": null,
      "outputs": []
    },
    {
      "cell_type": "code",
      "source": [
        "for word in cryptopricekey:\n",
        "  dfAdd = pd.read_csv(cryptobasepath + word + \"-USD.csv\")\n",
        "  del dfAdd[\"Date\"]\n",
        "  dfAdd = dfAdd.rename(columns=lambda x: word + \"-\" + x)\n",
        "  dfPrice = dfPrice.join(dfAdd) #crypto prices are continuous without fail"
      ],
      "metadata": {
        "id": "A7csl-W01qO7"
      },
      "execution_count": null,
      "outputs": []
    },
    {
      "cell_type": "code",
      "source": [
        "for word in stockpricekey:\n",
        "  dfAdd = pd.read_csv(stockbasepath + word + \"_historical.csv\")\n",
        "  for i in range(len(dfAdd)):\n",
        "    dfAdd.loc[i,\"Date\"] = trans(dfAdd.loc[i,\"Date\"])\n",
        "  i = 0\n",
        "  while (i < len(dfAdd)-1): #when stock market is closed on weekends and holidays, use the last available values\n",
        "    diff = (dfAdd.loc[i+1,\"Date\"]-dfAdd.loc[i,\"Date\"]).days \n",
        "    diff -= 1 #compute streak of missing days (usually 2 for weekends)\n",
        "    for j in range(diff):\n",
        "      copied = dfAdd.iloc[i,:] #i denotes most recent index with available price data\n",
        "      copied[\"Date\"] = copied[\"Date\"] + datetime.timedelta(days = j+1)\n",
        "      dfAdd = rowinsert(i+j+1, dfAdd, copied) #insert copy as long as streak of missing days, with incrementing dates\n",
        "    i += 1 + diff  #jump to next date with available price values\n",
        "  del dfAdd[\"Date\"]\n",
        "  del dfAdd[\"Unnamed: 0\"]\n",
        "  dfAdd = dfAdd.rename(columns=lambda x: word + \"-\" + x)\n",
        "  dfPrice = dfPrice.join(dfAdd) #merge cryptocurrency and stock prices"
      ],
      "metadata": {
        "id": "IoxpRiRP171y"
      },
      "execution_count": null,
      "outputs": []
    },
    {
      "cell_type": "code",
      "source": [
        "dfPrice.to_csv(\"/content/drive/MyDrive/ISEF/Datasets/Stonks/Preprocessed/CryptoStockPrice.csv\")"
      ],
      "metadata": {
        "id": "go6Ycuvn7vv8"
      },
      "execution_count": null,
      "outputs": []
    }
  ]
}